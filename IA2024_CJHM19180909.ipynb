{
  "nbformat": 4,
  "nbformat_minor": 0,
  "metadata": {
    "colab": {
      "provenance": [],
      "toc_visible": true,
      "authorship_tag": "ABX9TyOxQZJ1sQUv97m2jR8VxsQ1",
      "include_colab_link": true
    },
    "kernelspec": {
      "name": "python3",
      "display_name": "Python 3"
    },
    "language_info": {
      "name": "python"
    }
  },
  "cells": [
    {
      "cell_type": "markdown",
      "metadata": {
        "id": "view-in-github",
        "colab_type": "text"
      },
      "source": [
        "<a href=\"https://colab.research.google.com/github/JocznHM/Inteligencia-artificial-CJHM/blob/main/IA2024_CJHM19180909.ipynb\" target=\"_parent\"><img src=\"https://colab.research.google.com/assets/colab-badge.svg\" alt=\"Open In Colab\"/></a>"
      ]
    },
    {
      "cell_type": "markdown",
      "source": [
        "# EVALUACION DIAGNOSTICA\n"
      ],
      "metadata": {
        "id": "KBBGW2sx-Yuz"
      }
    },
    {
      "cell_type": "markdown",
      "source": [
        "1.1.- ¿Cómo se declara una lista en python, 2.- ¿Qué función se usa para conocer el número de elemento en una lista?"
      ],
      "metadata": {
        "id": "xEufZqsC-kCB"
      }
    },
    {
      "cell_type": "code",
      "source": [
        "my_list = [1, 2, 3]\n",
        "elementos = len(my_list)"
      ],
      "metadata": {
        "id": "ADAU4vv2-rZO"
      },
      "execution_count": null,
      "outputs": []
    },
    {
      "cell_type": "code",
      "source": [
        "print(elementos)"
      ],
      "metadata": {
        "colab": {
          "base_uri": "https://localhost:8080/"
        },
        "id": "EG_RtL_m-whT",
        "outputId": "04f2e19e-7b2b-40b6-bb53-d2709c86a581"
      },
      "execution_count": null,
      "outputs": [
        {
          "output_type": "stream",
          "name": "stdout",
          "text": [
            "3\n"
          ]
        }
      ]
    },
    {
      "cell_type": "markdown",
      "source": [
        "3.-¿Qué resultado obtendremos al ejecutar el siguiente código?"
      ],
      "metadata": {
        "id": "l394G3DW-zY3"
      }
    },
    {
      "cell_type": "code",
      "source": [
        "a = [1, 2, 3, 4, 5]\n",
        "print(a[::-1])"
      ],
      "metadata": {
        "colab": {
          "base_uri": "https://localhost:8080/"
        },
        "id": "muFcoZiD-2Qk",
        "outputId": "9bd57726-1100-4cd3-dd2f-e096ec9fd2a6"
      },
      "execution_count": null,
      "outputs": [
        {
          "output_type": "stream",
          "name": "stdout",
          "text": [
            "[5, 4, 3, 2, 1]\n"
          ]
        }
      ]
    },
    {
      "cell_type": "markdown",
      "source": [
        "4.-¿Cuál es el resultado de la siguiente expresión?"
      ],
      "metadata": {
        "id": "Xfu0auMT-68H"
      }
    },
    {
      "cell_type": "code",
      "source": [
        "print(3*\"5\"+2)"
      ],
      "metadata": {
        "colab": {
          "base_uri": "https://localhost:8080/",
          "height": 141
        },
        "id": "XPLTRe6C-8zp",
        "outputId": "0b3adc89-dd34-4194-ce42-054f82ec8850"
      },
      "execution_count": null,
      "outputs": [
        {
          "output_type": "error",
          "ename": "TypeError",
          "evalue": "can only concatenate str (not \"int\") to str",
          "traceback": [
            "\u001b[0;31m---------------------------------------------------------------------------\u001b[0m",
            "\u001b[0;31mTypeError\u001b[0m                                 Traceback (most recent call last)",
            "\u001b[0;32m<ipython-input-5-ecf93d8422a1>\u001b[0m in \u001b[0;36m<cell line: 1>\u001b[0;34m()\u001b[0m\n\u001b[0;32m----> 1\u001b[0;31m \u001b[0mprint\u001b[0m\u001b[0;34m(\u001b[0m\u001b[0;36m3\u001b[0m\u001b[0;34m*\u001b[0m\u001b[0;34m\"5\"\u001b[0m\u001b[0;34m+\u001b[0m\u001b[0;36m2\u001b[0m\u001b[0;34m)\u001b[0m\u001b[0;34m\u001b[0m\u001b[0;34m\u001b[0m\u001b[0m\n\u001b[0m",
            "\u001b[0;31mTypeError\u001b[0m: can only concatenate str (not \"int\") to str"
          ]
        }
      ]
    },
    {
      "cell_type": "markdown",
      "source": [
        "5.-¿Qué salida generará el siguiente código?"
      ],
      "metadata": {
        "id": "tYETIOPc_CD6"
      }
    },
    {
      "cell_type": "code",
      "source": [
        "def foo(x, y =[]):\n",
        "  y.append(x)\n",
        "  return y\n",
        "\n",
        "print(foo(1))\n",
        "print(foo(2,[]))\n",
        "print(foo(3))"
      ],
      "metadata": {
        "colab": {
          "base_uri": "https://localhost:8080/"
        },
        "id": "2MeT_iJF_CqJ",
        "outputId": "336efd75-3594-46b9-83c9-db75946081e4"
      },
      "execution_count": null,
      "outputs": [
        {
          "output_type": "stream",
          "name": "stdout",
          "text": [
            "[1]\n",
            "[2]\n",
            "[1, 3]\n"
          ]
        }
      ]
    },
    {
      "cell_type": "markdown",
      "source": [
        "6.-¿Qué resultado obtendremos al ejecutar el siguiente código?"
      ],
      "metadata": {
        "id": "cx4Ymn0Z_Ibf"
      }
    },
    {
      "cell_type": "code",
      "source": [
        "def multiply_list(numbers, factor):\n",
        "  result =[]\n",
        "  for number in numbers:\n",
        "    result.append(number*factor)\n",
        "  return result\n",
        "\n",
        "my_list = [1, 2, 3]\n",
        "output = multiply_list(my_list, 2)\n",
        "print(output)"
      ],
      "metadata": {
        "colab": {
          "base_uri": "https://localhost:8080/"
        },
        "id": "JIt99Xcs_HoM",
        "outputId": "5661d22e-e49f-45ec-d984-99a24baf7bf3"
      },
      "execution_count": null,
      "outputs": [
        {
          "output_type": "stream",
          "name": "stdout",
          "text": [
            "[2, 4, 6]\n"
          ]
        }
      ]
    },
    {
      "cell_type": "markdown",
      "source": [
        "# PRACTICA EN PYTHON"
      ],
      "metadata": {
        "id": "2Pdi9A6J_hiU"
      }
    },
    {
      "cell_type": "markdown",
      "source": [
        "Clasificación de una lista con numeros pares e impares\n",
        "\n",
        "\n",
        "La forma más fácil de poder realizar una clasificación de numeros dentro de python es utilizando las funciones ya establecidas sumado a un termino que se le conoce como \"Funciones anonimas\", para ello se utilizan las funciones lambda.\n",
        "\n",
        "la sintaxis de una funcion lambda es la siguiente:"
      ],
      "metadata": {
        "id": "V77YhlaL_wJC"
      }
    },
    {
      "cell_type": "code",
      "source": [
        "lambda argumentos: expresión"
      ],
      "metadata": {
        "id": "-aeouxvgBleT"
      },
      "execution_count": null,
      "outputs": []
    },
    {
      "cell_type": "markdown",
      "source": [
        "Un ejemplo es el siguiente:"
      ],
      "metadata": {
        "id": "6WAs0E5_B5Oh"
      }
    },
    {
      "cell_type": "code",
      "source": [
        "doble = lambda x: x * 2\n",
        "print(doble(5))"
      ],
      "metadata": {
        "colab": {
          "base_uri": "https://localhost:8080/"
        },
        "id": "I2NJk4x-B5EH",
        "outputId": "0be990c0-37f1-4026-cb85-c61be50009c5"
      },
      "execution_count": null,
      "outputs": [
        {
          "output_type": "stream",
          "name": "stdout",
          "text": [
            "10\n"
          ]
        }
      ]
    },
    {
      "cell_type": "markdown",
      "source": [
        "Las funciones tambien pueden recibir arreglos o listas:"
      ],
      "metadata": {
        "id": "6AIdENKOCBAW"
      }
    },
    {
      "cell_type": "code",
      "source": [
        "mi_lista =  [10, 25, 36, 98, 77, 34, 89, 58]\n",
        "doble = lambda x: x * 2\n",
        "print(doble(mi_lista))"
      ],
      "metadata": {
        "colab": {
          "base_uri": "https://localhost:8080/"
        },
        "id": "G5YPBAn1CH4d",
        "outputId": "5b64fbde-a730-4c25-ad23-d0860f0bdf37"
      },
      "execution_count": null,
      "outputs": [
        {
          "output_type": "stream",
          "name": "stdout",
          "text": [
            "[10, 25, 36, 98, 77, 34, 89, 58, 10, 25, 36, 98, 77, 34, 89, 58]\n"
          ]
        }
      ]
    },
    {
      "cell_type": "markdown",
      "source": [
        "Para crear una funcion que filtre numeros pares e impares y los guarde en una variable se puede hacer lo siguiente:"
      ],
      "metadata": {
        "id": "K7JavCD2CSOp"
      }
    },
    {
      "cell_type": "code",
      "source": [
        "mi_lista =  [10, 25, 36, 98, 77, 34, 89, 58]\n",
        "\n",
        "pares = list(filter(lambda x: x % 2 == 0, mi_lista))\n",
        "impares = list(filter(lambda x: x % 2 != 0, mi_lista))\n",
        "print(f\"la lista de numeros impares es:{impares}\")\n",
        "print(f\"la lista de numeros pares es:{pares}\")"
      ],
      "metadata": {
        "colab": {
          "base_uri": "https://localhost:8080/"
        },
        "id": "SCg7sBbVCdYs",
        "outputId": "b5029eae-d1f5-413c-f0a0-6c643ce2d6b2"
      },
      "execution_count": null,
      "outputs": [
        {
          "output_type": "stream",
          "name": "stdout",
          "text": [
            "la lista de numeros impares es:[25, 77, 89]\n",
            "la lista de numeros pares es:[10, 36, 98, 34, 58]\n"
          ]
        }
      ]
    },
    {
      "cell_type": "markdown",
      "source": [
        "basicamente le digo a python que estoy definiendo dos listas, las cuales filtran los datos a traves de una funcion lambda que recive como parametro una lista y utiliza una sentencia logica para hacerlo.\n",
        "Al final las imprime."
      ],
      "metadata": {
        "id": "a6EPGmBADDUZ"
      }
    },
    {
      "cell_type": "markdown",
      "source": [
        "para calcular la suma se usa la funcion sum() que vien  por defecto con python y se puede imprimir, esta funcion tiene el mismo coste algoritmico que utilizar algun siclo. el coste es O(n)."
      ],
      "metadata": {
        "id": "I0j-2ynqRpBV"
      }
    },
    {
      "cell_type": "code",
      "source": [
        "print(f\"la suma de los numeros impares es: {sum(impares)}\")\n",
        "print(f\"la suma de los numeros pares es: {sum(pares)}\")"
      ],
      "metadata": {
        "colab": {
          "base_uri": "https://localhost:8080/"
        },
        "id": "SyT60MK2Sfa6",
        "outputId": "5cd99643-96e6-42b6-c64c-36ed86017cb2"
      },
      "execution_count": null,
      "outputs": [
        {
          "output_type": "stream",
          "name": "stdout",
          "text": [
            "la suma de los numeros impares es: 191\n",
            "la suma de los numeros pares es: 236\n"
          ]
        }
      ]
    },
    {
      "cell_type": "markdown",
      "source": [
        "#  Ejercicios en python"
      ],
      "metadata": {
        "id": "76HvBOhzD4HJ"
      }
    },
    {
      "cell_type": "markdown",
      "source": [
        "Para la solucion de los siguientes programas, se determina usar diccionarios en vez de arreglos, dado que el uso de diccionarios tiene un menor coste algoritmico dentro de las operaciones que vienen por defecto con python. Además como este codigo fue hecho directamente en el interprete de mi maquina opte por agregarle lo de los archvios txt, ya que puede ser una opcion de \"base de datos\". un diccionario tiene la forma de un archivo json por ejemplo:\n",
        "{\n",
        "  clave:valor,\n",
        "  clave:{\n",
        "    clave:valor,\n",
        "    clave:{\n",
        "      ...\n",
        "    }\n",
        "  }\n",
        "}\n",
        "la ventaja de usar diccionarios es que se puede estructurar de la manera que mejor convenga."
      ],
      "metadata": {
        "id": "ac0aVPoAH59r"
      }
    },
    {
      "cell_type": "markdown",
      "source": [
        "ejercicio 1.- Un taller automotriz necesita llevar un control de su inventario de repuestos. Crea un programa que permita agregar, eliminar y consultar la cantidad de repuestos disponibles, así como realizar una compra cuando el inventario de un repuesto está bajo."
      ],
      "metadata": {
        "id": "YHOJNxLcI9v0"
      }
    },
    {
      "cell_type": "code",
      "source": [
        "import os\n",
        "\n",
        "# Nombre del archivo donde se guardará el inventario\n",
        "ARCHIVO_INVENTARIO = 'inventario.txt'\n",
        "\n",
        "def cargar_inventario():\n",
        "    \"\"\"\n",
        "    Carga el inventario de repuestos desde el archivo de texto.\n",
        "\n",
        "    Lee el archivo 'inventario.txt' y construye un diccionario con el nombre del repuesto\n",
        "    y la cantidad disponible. Si el archivo no existe, devuelve un diccionario vacío.\n",
        "\n",
        "    Returns:\n",
        "        dict: Un diccionario con los nombres de los repuestos como claves y las cantidades como valores.\n",
        "    \"\"\"\n",
        "    inventario = {}\n",
        "    if os.path.exists(ARCHIVO_INVENTARIO):\n",
        "        with open(ARCHIVO_INVENTARIO, 'r') as archivo:\n",
        "            for linea in archivo:\n",
        "                nombre, cantidad = linea.strip().split(',')\n",
        "                inventario[nombre] = int(cantidad)\n",
        "    return inventario\n",
        "\n",
        "def guardar_inventario(inventario):\n",
        "    \"\"\"\n",
        "    Guarda el inventario en el archivo de texto.\n",
        "\n",
        "    Escribe el contenido del diccionario de inventario en el archivo 'inventario.txt'. Cada línea\n",
        "    contiene el nombre del repuesto y la cantidad, separados por una coma.\n",
        "\n",
        "    Args:\n",
        "        inventario (dict): Un diccionario con el nombre del repuesto como clave y la cantidad como valor.\n",
        "    \"\"\"\n",
        "    with open(ARCHIVO_INVENTARIO, 'w') as archivo:\n",
        "        for nombre, cantidad in inventario.items():\n",
        "            archivo.write(f'{nombre},{cantidad}\\n')\n",
        "\n",
        "def agregar_repuesto(inventario, nombre, cantidad):\n",
        "    \"\"\"\n",
        "    Agrega o actualiza la cantidad de un repuesto en el inventario.\n",
        "\n",
        "    Si el repuesto ya existe, incrementa su cantidad. Si no existe, lo añade al inventario\n",
        "    con la cantidad especificada. Luego guarda los cambios en el archivo.\n",
        "\n",
        "    Args:\n",
        "        inventario (dict): El diccionario de inventario actual.\n",
        "        nombre (str): El nombre del repuesto a agregar.\n",
        "        cantidad (int): La cantidad de repuesto a agregar.\n",
        "    \"\"\"\n",
        "    if nombre in inventario:\n",
        "        inventario[nombre] += cantidad\n",
        "    else:\n",
        "        inventario[nombre] = cantidad\n",
        "    guardar_inventario(inventario)\n",
        "\n",
        "def eliminar_repuesto(inventario, nombre):\n",
        "    \"\"\"\n",
        "    Elimina un repuesto del inventario.\n",
        "\n",
        "    Si el repuesto existe en el inventario, se elimina. Si no se encuentra, muestra un mensaje\n",
        "    de error. Luego guarda los cambios en el archivo.\n",
        "\n",
        "    Args:\n",
        "        inventario (dict): El diccionario de inventario actual.\n",
        "        nombre (str): El nombre del repuesto a eliminar.\n",
        "    \"\"\"\n",
        "    if nombre in inventario:\n",
        "        del inventario[nombre]\n",
        "        guardar_inventario(inventario)\n",
        "    else:\n",
        "        print(\"Repuesto no encontrado.\")\n",
        "\n",
        "def consultar_repuesto(inventario, nombre):\n",
        "    \"\"\"\n",
        "    Consulta la cantidad disponible de un repuesto en el inventario.\n",
        "\n",
        "    Busca el repuesto en el diccionario y devuelve la cantidad disponible. Si el repuesto no\n",
        "    está en el inventario, devuelve 0.\n",
        "\n",
        "    Args:\n",
        "        inventario (dict): El diccionario de inventario actual.\n",
        "        nombre (str): El nombre del repuesto a consultar.\n",
        "\n",
        "    Returns:\n",
        "        int: La cantidad disponible del repuesto.\n",
        "    \"\"\"\n",
        "    return inventario.get(nombre, 0)\n",
        "\n",
        "def realizar_compra(inventario, nombre, cantidad):\n",
        "    \"\"\"\n",
        "    Realiza una compra de un repuesto, aumentando su cantidad en el inventario.\n",
        "\n",
        "    Si el repuesto existe, incrementa su cantidad en la cantidad especificada. Si no existe,\n",
        "    muestra un mensaje de error. Luego guarda los cambios en el archivo.\n",
        "\n",
        "    Args:\n",
        "        inventario (dict): El diccionario de inventario actual.\n",
        "        nombre (str): El nombre del repuesto a comprar.\n",
        "        cantidad (int): La cantidad de repuesto a comprar.\n",
        "    \"\"\"\n",
        "    if nombre in inventario:\n",
        "        inventario[nombre] += cantidad\n",
        "        guardar_inventario(inventario)\n",
        "    else:\n",
        "        print(\"Repuesto no encontrado.\")\n",
        "\n",
        "def menu():\n",
        "    \"\"\"\n",
        "    Muestra el menú principal y permite al usuario gestionar el inventario.\n",
        "\n",
        "    El menú proporciona opciones para agregar, eliminar, consultar repuestos y realizar compras.\n",
        "    Las operaciones se realizan según la opción seleccionada por el usuario. El inventario se\n",
        "    carga al inicio y se guarda después de cada operación.\n",
        "    \"\"\"\n",
        "    inventario = cargar_inventario()\n",
        "    while True:\n",
        "        print(\"\\nSistema de inventario taller automotriz Morquecho´s\")\n",
        "        print(\"\\n1. Agregar repuesto\")\n",
        "        print(\"2. Eliminar repuesto\")\n",
        "        print(\"3. Consultar repuesto\")\n",
        "        print(\"4. Realizar compra\")\n",
        "        print(\"5. Salir\")\n",
        "        opcion = input(\"Seleccione una opción: \")\n",
        "\n",
        "        if opcion == '1':\n",
        "            nombre = input(\"Nombre del repuesto: \")\n",
        "            cantidad = int(input(\"Cantidad a agregar: \"))\n",
        "            agregar_repuesto(inventario, nombre, cantidad)\n",
        "            print(\"Repuesto agregado.\")\n",
        "\n",
        "        elif opcion == '2':\n",
        "            nombre = input(\"Nombre del repuesto a eliminar: \")\n",
        "            eliminar_repuesto(inventario, nombre)\n",
        "            print(\"Repuesto eliminado.\")\n",
        "\n",
        "        elif opcion == '3':\n",
        "            nombre = input(\"Nombre del repuesto a consultar: \")\n",
        "            cantidad = consultar_repuesto(inventario, nombre)\n",
        "            print(f\"Cantidad disponible de {nombre}: {cantidad}\")\n",
        "\n",
        "        elif opcion == '4':\n",
        "            nombre = input(\"Nombre del repuesto a comprar: \")\n",
        "            cantidad = int(input(\"Cantidad a comprar: \"))\n",
        "            realizar_compra(inventario, nombre, cantidad)\n",
        "            print(\"Compra realizada.\")\n",
        "\n",
        "        elif opcion == '5':\n",
        "            break\n",
        "\n",
        "        else:\n",
        "            print(\"Opción no válida.\")\n",
        "\n",
        "# Punto de entrada al programa\n",
        "#Al ejecutar el interpete toma este codigo como el main o punto de entrada y comienza a ejecutar\n",
        "#las funciones dentro de este siguiente bloque.\n",
        "#es algo así como un void main\n",
        "if __name__ == \"__main__\":\n",
        "    menu()\n"
      ],
      "metadata": {
        "colab": {
          "base_uri": "https://localhost:8080/"
        },
        "id": "x1ZVGP2AD5Ff",
        "outputId": "8ca869f7-fd09-4b57-8e93-3fa62a57080f"
      },
      "execution_count": null,
      "outputs": [
        {
          "name": "stdout",
          "output_type": "stream",
          "text": [
            "\n",
            "1. Agregar repuesto\n",
            "2. Eliminar repuesto\n",
            "3. Consultar repuesto\n",
            "4. Realizar compra\n",
            "5. Salir\n",
            "Seleccione una opción: 5\n"
          ]
        }
      ]
    },
    {
      "cell_type": "markdown",
      "source": [
        "2.-Una empresa de servicios a terceros ofrece proyectos de consultoría y debe llevar el control de horas trabajadas por sus empleados en diferentes proyectos. Crea un programa que calcule las horas totales trabajadas por cada empleado en varios proyectos y su costo total en función de la tarifa por hora."
      ],
      "metadata": {
        "id": "Zn7CnuqrGBbP"
      }
    },
    {
      "cell_type": "code",
      "source": [
        "import os\n",
        "\n",
        "# Nombre del archivo que simula la base de datos de horas trabajadas\n",
        "ARCHIVO_HORAS = 'horas_trabajadas.txt'\n",
        "\n",
        "def cargar_horas():\n",
        "    \"\"\"\n",
        "    Carga las horas trabajadas de los empleados desde el archivo.\n",
        "    Devuelve un diccionario donde la clave es el nombre del empleado y el valor\n",
        "    es otro diccionario con el proyecto como clave y las horas trabajadas como valor.\n",
        "    \"\"\"\n",
        "    horas = {}\n",
        "    if os.path.exists(ARCHIVO_HORAS):\n",
        "        with open(ARCHIVO_HORAS, 'r') as archivo:\n",
        "            for linea in archivo:\n",
        "                empleado, proyecto, horas_trabajadas = linea.strip().split(',')\n",
        "                if empleado not in horas:\n",
        "                    horas[empleado] = {}\n",
        "                if proyecto in horas[empleado]:\n",
        "                    horas[empleado][proyecto] += float(horas_trabajadas)\n",
        "                else:\n",
        "                    horas[empleado][proyecto] = float(horas_trabajadas)\n",
        "    return horas\n",
        "\n",
        "def guardar_horas(horas):\n",
        "    \"\"\"\n",
        "    Guarda el diccionario de horas trabajadas en el archivo.\n",
        "    \"\"\"\n",
        "    with open(ARCHIVO_HORAS, 'w') as archivo:\n",
        "        for empleado, proyectos in horas.items():\n",
        "            for proyecto, horas_trabajadas in proyectos.items():\n",
        "                archivo.write(f'{empleado},{proyecto},{horas_trabajadas}\\n')\n",
        "\n",
        "def agregar_horas(horas, empleado, proyecto, horas_trabajadas):\n",
        "    \"\"\"\n",
        "    Agrega horas trabajadas para un empleado en un proyecto.\n",
        "    \"\"\"\n",
        "    if empleado not in horas:\n",
        "        horas[empleado] = {}\n",
        "    if proyecto in horas[empleado]:\n",
        "        horas[empleado][proyecto] += horas_trabajadas\n",
        "    else:\n",
        "        horas[empleado][proyecto] = horas_trabajadas\n",
        "    guardar_horas(horas)\n",
        "\n",
        "def calcular_total_horas(horas, empleado):\n",
        "    \"\"\"\n",
        "    Calcula el total de horas trabajadas por un empleado en todos los proyectos.\n",
        "    \"\"\"\n",
        "    if empleado in horas:\n",
        "        return sum(horas[empleado].values())\n",
        "    return 0\n",
        "\n",
        "def calcular_costo_total(horas, tarifas, empleado):\n",
        "    \"\"\"\n",
        "    Calcula el costo total basado en las horas trabajadas y las tarifas por hora.\n",
        "    \"\"\"\n",
        "    total_horas = calcular_total_horas(horas, empleado)\n",
        "    tarifa = tarifas.get(empleado, 0)\n",
        "    return total_horas * tarifa\n",
        "\n",
        "def menu():\n",
        "    \"\"\"\n",
        "    Muestra el menú principal y permite al usuario gestionar el inventario.\n",
        "    \"\"\"\n",
        "    horas = cargar_horas()\n",
        "    tarifas = {}\n",
        "\n",
        "    while True:\n",
        "        print(\"\\n1. Agregar horas trabajadas\")\n",
        "        print(\"2. Consultar total de horas trabajadas por empleado\")\n",
        "        print(\"3. Consultar costo total por empleado\")\n",
        "        print(\"4. Establecer tarifa por hora\")\n",
        "        print(\"5. Salir\")\n",
        "        opcion = input(\"Seleccione una opción: \")\n",
        "\n",
        "        if opcion == '1':\n",
        "            empleado = input(\"Nombre del empleado: \")\n",
        "            proyecto = input(\"Nombre del proyecto: \")\n",
        "            horas_trabajadas = float(input(\"Horas trabajadas: \"))\n",
        "            agregar_horas(horas, empleado, proyecto, horas_trabajadas)\n",
        "            print(\"Horas agregadas.\")\n",
        "\n",
        "        elif opcion == '2':\n",
        "            empleado = input(\"Nombre del empleado: \")\n",
        "            total_horas = calcular_total_horas(horas, empleado)\n",
        "            print(f\"Total de horas trabajadas por {empleado}: {total_horas}\")\n",
        "\n",
        "        elif opcion == '3':\n",
        "            empleado = input(\"Nombre del empleado: \")\n",
        "            if empleado in tarifas:\n",
        "                costo_total = calcular_costo_total(horas, tarifas, empleado)\n",
        "                print(f\"Costo total para {empleado}: {costo_total}\")\n",
        "            else:\n",
        "                print(\"Tarifa no establecida para este empleado.\")\n",
        "\n",
        "        elif opcion == '4':\n",
        "            empleado = input(\"Nombre del empleado: \")\n",
        "            tarifa = float(input(\"Tarifa por hora: \"))\n",
        "            tarifas[empleado] = tarifa\n",
        "            print(\"Tarifa establecida.\")\n",
        "\n",
        "        elif opcion == '5':\n",
        "            break\n",
        "\n",
        "        else:\n",
        "            print(\"Opción no válida.\")\n",
        "# Punto de entrada al programa\n",
        "#Al ejecutar el interpete toma este codigo como el main o punto de entrada y comienza a ejecutar\n",
        "#las funciones dentro de este siguiente bloque.\n",
        "#es algo así como un void main\n",
        "if __name__ == \"__main__\":\n",
        "    menu()\n"
      ],
      "metadata": {
        "colab": {
          "base_uri": "https://localhost:8080/"
        },
        "id": "doyA3typGB00",
        "outputId": "3367c613-1070-4ebd-e4b1-840a9f9e43ea"
      },
      "execution_count": null,
      "outputs": [
        {
          "name": "stdout",
          "output_type": "stream",
          "text": [
            "\n",
            "1. Agregar horas trabajadas\n",
            "2. Consultar total de horas trabajadas por empleado\n",
            "3. Consultar costo total por empleado\n",
            "4. Establecer tarifa por hora\n",
            "5. Salir\n",
            "Seleccione una opción: 5\n"
          ]
        }
      ]
    },
    {
      "cell_type": "markdown",
      "source": [
        "Ambas soluciones tienen la opcion de salir del programa mediante la funcion break que rompe el ciclo while dentro de la funcion main.\n",
        "Esto finaliza el programa. Es importante aclarar que si se ejecuta en una pc el archivo txt se mantendra y toda informacion puesta anteriormente se almacenara a menos que se eliminen dichos registros.\n"
      ],
      "metadata": {
        "id": "WzsZ_8MbKnqU"
      }
    },
    {
      "cell_type": "markdown",
      "source": [
        "# NEURONA APRENDIZAJE COMPUERTA AND"
      ],
      "metadata": {
        "id": "NA7UP03TTprv"
      }
    },
    {
      "cell_type": "code",
      "source": [
        "x=[0,1]\n",
        "w=[10,2]\n",
        "s=0\n",
        "for i in range(0,2):\n",
        "  s=s+x[i]*w[i]\n",
        "print(s)\n",
        "\n",
        "y=1 if s>0 else 0\n",
        "print(x[0],'AND',x[1],'=',y)"
      ],
      "metadata": {
        "colab": {
          "base_uri": "https://localhost:8080/"
        },
        "id": "30VNUOheT4WQ",
        "outputId": "8c7c6ab4-d5dd-45a6-d576-0be02f8fda65"
      },
      "execution_count": null,
      "outputs": [
        {
          "output_type": "stream",
          "name": "stdout",
          "text": [
            "2\n",
            "0 AND 1 = 1\n"
          ]
        }
      ]
    }
  ]
}