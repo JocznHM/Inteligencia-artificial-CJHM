{
  "nbformat": 4,
  "nbformat_minor": 0,
  "metadata": {
    "colab": {
      "provenance": [],
      "toc_visible": true,
      "authorship_tag": "ABX9TyMZ8/JmzQhwp2Y+bLWqcaQC",
      "include_colab_link": true
    },
    "kernelspec": {
      "name": "python3",
      "display_name": "Python 3"
    },
    "language_info": {
      "name": "python"
    }
  },
  "cells": [
    {
      "cell_type": "markdown",
      "metadata": {
        "id": "view-in-github",
        "colab_type": "text"
      },
      "source": [
        "<a href=\"https://colab.research.google.com/github/JocznHM/Inteligencia-artificial-CJHM/blob/main/IA2024_CJHM19180909.ipynb\" target=\"_parent\"><img src=\"https://colab.research.google.com/assets/colab-badge.svg\" alt=\"Open In Colab\"/></a>"
      ]
    },
    {
      "cell_type": "markdown",
      "source": [],
      "metadata": {
        "id": "QABApQsU28qL"
      }
    },
    {
      "cell_type": "markdown",
      "source": [
        "# EVALUACION DIAGNOSTICA\n"
      ],
      "metadata": {
        "id": "KBBGW2sx-Yuz"
      }
    },
    {
      "cell_type": "markdown",
      "source": [
        "1.1.- ¿Cómo se declara una lista en python, 2.- ¿Qué función se usa para conocer el número de elemento en una lista?"
      ],
      "metadata": {
        "id": "xEufZqsC-kCB"
      }
    },
    {
      "cell_type": "code",
      "source": [
        "my_list = [1, 2, 3]\n",
        "elementos = len(my_list)"
      ],
      "metadata": {
        "id": "ADAU4vv2-rZO"
      },
      "execution_count": null,
      "outputs": []
    },
    {
      "cell_type": "code",
      "source": [
        "print(elementos)"
      ],
      "metadata": {
        "colab": {
          "base_uri": "https://localhost:8080/"
        },
        "id": "EG_RtL_m-whT",
        "outputId": "04f2e19e-7b2b-40b6-bb53-d2709c86a581"
      },
      "execution_count": null,
      "outputs": [
        {
          "output_type": "stream",
          "name": "stdout",
          "text": [
            "3\n"
          ]
        }
      ]
    },
    {
      "cell_type": "markdown",
      "source": [
        "3.-¿Qué resultado obtendremos al ejecutar el siguiente código?"
      ],
      "metadata": {
        "id": "l394G3DW-zY3"
      }
    },
    {
      "cell_type": "code",
      "source": [
        "a = [1, 2, 3, 4, 5]\n",
        "print(a[::-1])"
      ],
      "metadata": {
        "colab": {
          "base_uri": "https://localhost:8080/"
        },
        "id": "muFcoZiD-2Qk",
        "outputId": "9bd57726-1100-4cd3-dd2f-e096ec9fd2a6"
      },
      "execution_count": null,
      "outputs": [
        {
          "output_type": "stream",
          "name": "stdout",
          "text": [
            "[5, 4, 3, 2, 1]\n"
          ]
        }
      ]
    },
    {
      "cell_type": "markdown",
      "source": [
        "4.-¿Cuál es el resultado de la siguiente expresión?"
      ],
      "metadata": {
        "id": "Xfu0auMT-68H"
      }
    },
    {
      "cell_type": "code",
      "source": [
        "print(3*\"5\"+2)"
      ],
      "metadata": {
        "colab": {
          "base_uri": "https://localhost:8080/",
          "height": 141
        },
        "id": "XPLTRe6C-8zp",
        "outputId": "0b3adc89-dd34-4194-ce42-054f82ec8850"
      },
      "execution_count": null,
      "outputs": [
        {
          "output_type": "error",
          "ename": "TypeError",
          "evalue": "can only concatenate str (not \"int\") to str",
          "traceback": [
            "\u001b[0;31m---------------------------------------------------------------------------\u001b[0m",
            "\u001b[0;31mTypeError\u001b[0m                                 Traceback (most recent call last)",
            "\u001b[0;32m<ipython-input-5-ecf93d8422a1>\u001b[0m in \u001b[0;36m<cell line: 1>\u001b[0;34m()\u001b[0m\n\u001b[0;32m----> 1\u001b[0;31m \u001b[0mprint\u001b[0m\u001b[0;34m(\u001b[0m\u001b[0;36m3\u001b[0m\u001b[0;34m*\u001b[0m\u001b[0;34m\"5\"\u001b[0m\u001b[0;34m+\u001b[0m\u001b[0;36m2\u001b[0m\u001b[0;34m)\u001b[0m\u001b[0;34m\u001b[0m\u001b[0;34m\u001b[0m\u001b[0m\n\u001b[0m",
            "\u001b[0;31mTypeError\u001b[0m: can only concatenate str (not \"int\") to str"
          ]
        }
      ]
    },
    {
      "cell_type": "markdown",
      "source": [
        "5.-¿Qué salida generará el siguiente código?"
      ],
      "metadata": {
        "id": "tYETIOPc_CD6"
      }
    },
    {
      "cell_type": "code",
      "source": [
        "def foo(x, y =[]):\n",
        "  y.append(x)\n",
        "  return y\n",
        "\n",
        "print(foo(1))\n",
        "print(foo(2,[]))\n",
        "print(foo(3))"
      ],
      "metadata": {
        "colab": {
          "base_uri": "https://localhost:8080/"
        },
        "id": "2MeT_iJF_CqJ",
        "outputId": "336efd75-3594-46b9-83c9-db75946081e4"
      },
      "execution_count": null,
      "outputs": [
        {
          "output_type": "stream",
          "name": "stdout",
          "text": [
            "[1]\n",
            "[2]\n",
            "[1, 3]\n"
          ]
        }
      ]
    },
    {
      "cell_type": "markdown",
      "source": [
        "6.-¿Qué resultado obtendremos al ejecutar el siguiente código?"
      ],
      "metadata": {
        "id": "cx4Ymn0Z_Ibf"
      }
    },
    {
      "cell_type": "code",
      "source": [
        "def multiply_list(numbers, factor):\n",
        "  result =[]\n",
        "  for number in numbers:\n",
        "    result.append(number*factor)\n",
        "  return result\n",
        "\n",
        "my_list = [1, 2, 3]\n",
        "output = multiply_list(my_list, 2)\n",
        "print(output)"
      ],
      "metadata": {
        "colab": {
          "base_uri": "https://localhost:8080/"
        },
        "id": "JIt99Xcs_HoM",
        "outputId": "5661d22e-e49f-45ec-d984-99a24baf7bf3"
      },
      "execution_count": null,
      "outputs": [
        {
          "output_type": "stream",
          "name": "stdout",
          "text": [
            "[2, 4, 6]\n"
          ]
        }
      ]
    },
    {
      "cell_type": "markdown",
      "source": [
        "# PRACTICA EN PYTHON"
      ],
      "metadata": {
        "id": "2Pdi9A6J_hiU"
      }
    },
    {
      "cell_type": "markdown",
      "source": [
        "Clasificación de una lista con numeros pares e impares\n",
        "\n",
        "\n",
        "La forma más fácil de poder realizar una clasificación de numeros dentro de python es utilizando las funciones ya establecidas sumado a un termino que se le conoce como \"Funciones anonimas\", para ello se utilizan las funciones lambda.\n",
        "\n",
        "la sintaxis de una funcion lambda es la siguiente:"
      ],
      "metadata": {
        "id": "V77YhlaL_wJC"
      }
    },
    {
      "cell_type": "code",
      "source": [
        "lambda argumentos: expresión"
      ],
      "metadata": {
        "id": "-aeouxvgBleT"
      },
      "execution_count": null,
      "outputs": []
    },
    {
      "cell_type": "markdown",
      "source": [
        "Un ejemplo es el siguiente:"
      ],
      "metadata": {
        "id": "6WAs0E5_B5Oh"
      }
    },
    {
      "cell_type": "code",
      "source": [
        "doble = lambda x: x * 2\n",
        "print(doble(5))"
      ],
      "metadata": {
        "colab": {
          "base_uri": "https://localhost:8080/"
        },
        "id": "I2NJk4x-B5EH",
        "outputId": "0be990c0-37f1-4026-cb85-c61be50009c5"
      },
      "execution_count": null,
      "outputs": [
        {
          "output_type": "stream",
          "name": "stdout",
          "text": [
            "10\n"
          ]
        }
      ]
    },
    {
      "cell_type": "markdown",
      "source": [
        "Las funciones tambien pueden recibir arreglos o listas:"
      ],
      "metadata": {
        "id": "6AIdENKOCBAW"
      }
    },
    {
      "cell_type": "code",
      "source": [
        "mi_lista =  [10, 25, 36, 98, 77, 34, 89, 58]\n",
        "doble = lambda x: x * 2\n",
        "print(doble(mi_lista))"
      ],
      "metadata": {
        "colab": {
          "base_uri": "https://localhost:8080/"
        },
        "id": "G5YPBAn1CH4d",
        "outputId": "5b64fbde-a730-4c25-ad23-d0860f0bdf37"
      },
      "execution_count": null,
      "outputs": [
        {
          "output_type": "stream",
          "name": "stdout",
          "text": [
            "[10, 25, 36, 98, 77, 34, 89, 58, 10, 25, 36, 98, 77, 34, 89, 58]\n"
          ]
        }
      ]
    },
    {
      "cell_type": "markdown",
      "source": [
        "Para crear una funcion que filtre numeros pares e impares y los guarde en una variable se puede hacer lo siguiente:"
      ],
      "metadata": {
        "id": "K7JavCD2CSOp"
      }
    },
    {
      "cell_type": "code",
      "source": [
        "mi_lista =  [10, 25, 36, 98, 77, 34, 89, 58]\n",
        "\n",
        "pares = list(filter(lambda x: x % 2 == 0, mi_lista))\n",
        "impares = list(filter(lambda x: x % 2 != 0, mi_lista))\n",
        "print(f\"la lista de numeros impares es:{impares}\")\n",
        "print(f\"la lista de numeros pares es:{pares}\")"
      ],
      "metadata": {
        "colab": {
          "base_uri": "https://localhost:8080/"
        },
        "id": "SCg7sBbVCdYs",
        "outputId": "b5029eae-d1f5-413c-f0a0-6c643ce2d6b2"
      },
      "execution_count": null,
      "outputs": [
        {
          "output_type": "stream",
          "name": "stdout",
          "text": [
            "la lista de numeros impares es:[25, 77, 89]\n",
            "la lista de numeros pares es:[10, 36, 98, 34, 58]\n"
          ]
        }
      ]
    },
    {
      "cell_type": "markdown",
      "source": [
        "basicamente le digo a python que estoy definiendo dos listas, las cuales filtran los datos a traves de una funcion lambda que recive como parametro una lista y utiliza una sentencia logica para hacerlo.\n",
        "Al final las imprime."
      ],
      "metadata": {
        "id": "a6EPGmBADDUZ"
      }
    },
    {
      "cell_type": "markdown",
      "source": [
        "para calcular la suma se usa la funcion sum() que vien  por defecto con python y se puede imprimir, esta funcion tiene el mismo coste algoritmico que utilizar algun siclo. el coste es O(n)."
      ],
      "metadata": {
        "id": "I0j-2ynqRpBV"
      }
    },
    {
      "cell_type": "code",
      "source": [
        "print(f\"la suma de los numeros impares es: {sum(impares)}\")\n",
        "print(f\"la suma de los numeros pares es: {sum(pares)}\")"
      ],
      "metadata": {
        "colab": {
          "base_uri": "https://localhost:8080/"
        },
        "id": "SyT60MK2Sfa6",
        "outputId": "5cd99643-96e6-42b6-c64c-36ed86017cb2"
      },
      "execution_count": null,
      "outputs": [
        {
          "output_type": "stream",
          "name": "stdout",
          "text": [
            "la suma de los numeros impares es: 191\n",
            "la suma de los numeros pares es: 236\n"
          ]
        }
      ]
    },
    {
      "cell_type": "markdown",
      "source": [
        "#  Ejercicios en python"
      ],
      "metadata": {
        "id": "76HvBOhzD4HJ"
      }
    },
    {
      "cell_type": "markdown",
      "source": [
        "Para la solucion de los siguientes programas, se determina usar diccionarios en vez de arreglos, dado que el uso de diccionarios tiene un menor coste algoritmico dentro de las operaciones que vienen por defecto con python. Además como este codigo fue hecho directamente en el interprete de mi maquina opte por agregarle lo de los archvios txt, ya que puede ser una opcion de \"base de datos\". un diccionario tiene la forma de un archivo json por ejemplo:\n",
        "{\n",
        "  clave:valor,\n",
        "  clave:{\n",
        "    clave:valor,\n",
        "    clave:{\n",
        "      ...\n",
        "    }\n",
        "  }\n",
        "}\n",
        "la ventaja de usar diccionarios es que se puede estructurar de la manera que mejor convenga."
      ],
      "metadata": {
        "id": "ac0aVPoAH59r"
      }
    },
    {
      "cell_type": "markdown",
      "source": [
        "ejercicio 1.- Un taller automotriz necesita llevar un control de su inventario de repuestos. Crea un programa que permita agregar, eliminar y consultar la cantidad de repuestos disponibles, así como realizar una compra cuando el inventario de un repuesto está bajo."
      ],
      "metadata": {
        "id": "YHOJNxLcI9v0"
      }
    },
    {
      "cell_type": "code",
      "source": [
        "import os\n",
        "\n",
        "# Nombre del archivo donde se guardará el inventario\n",
        "ARCHIVO_INVENTARIO = 'inventario.txt'\n",
        "\n",
        "def cargar_inventario():\n",
        "    \"\"\"\n",
        "    Carga el inventario de repuestos desde el archivo de texto.\n",
        "\n",
        "    Lee el archivo 'inventario.txt' y construye un diccionario con el nombre del repuesto\n",
        "    y la cantidad disponible. Si el archivo no existe, devuelve un diccionario vacío.\n",
        "\n",
        "    Returns:\n",
        "        dict: Un diccionario con los nombres de los repuestos como claves y las cantidades como valores.\n",
        "    \"\"\"\n",
        "    inventario = {}\n",
        "    if os.path.exists(ARCHIVO_INVENTARIO):\n",
        "        with open(ARCHIVO_INVENTARIO, 'r') as archivo:\n",
        "            for linea in archivo:\n",
        "                nombre, cantidad = linea.strip().split(',')\n",
        "                inventario[nombre] = int(cantidad)\n",
        "    return inventario\n",
        "\n",
        "def guardar_inventario(inventario):\n",
        "    \"\"\"\n",
        "    Guarda el inventario en el archivo de texto.\n",
        "\n",
        "    Escribe el contenido del diccionario de inventario en el archivo 'inventario.txt'. Cada línea\n",
        "    contiene el nombre del repuesto y la cantidad, separados por una coma.\n",
        "\n",
        "    Args:\n",
        "        inventario (dict): Un diccionario con el nombre del repuesto como clave y la cantidad como valor.\n",
        "    \"\"\"\n",
        "    with open(ARCHIVO_INVENTARIO, 'w') as archivo:\n",
        "        for nombre, cantidad in inventario.items():\n",
        "            archivo.write(f'{nombre},{cantidad}\\n')\n",
        "\n",
        "def agregar_repuesto(inventario, nombre, cantidad):\n",
        "    \"\"\"\n",
        "    Agrega o actualiza la cantidad de un repuesto en el inventario.\n",
        "\n",
        "    Si el repuesto ya existe, incrementa su cantidad. Si no existe, lo añade al inventario\n",
        "    con la cantidad especificada. Luego guarda los cambios en el archivo.\n",
        "\n",
        "    Args:\n",
        "        inventario (dict): El diccionario de inventario actual.\n",
        "        nombre (str): El nombre del repuesto a agregar.\n",
        "        cantidad (int): La cantidad de repuesto a agregar.\n",
        "    \"\"\"\n",
        "    if nombre in inventario:\n",
        "        inventario[nombre] += cantidad\n",
        "    else:\n",
        "        inventario[nombre] = cantidad\n",
        "    guardar_inventario(inventario)\n",
        "\n",
        "def eliminar_repuesto(inventario, nombre):\n",
        "    \"\"\"\n",
        "    Elimina un repuesto del inventario.\n",
        "\n",
        "    Si el repuesto existe en el inventario, se elimina. Si no se encuentra, muestra un mensaje\n",
        "    de error. Luego guarda los cambios en el archivo.\n",
        "\n",
        "    Args:\n",
        "        inventario (dict): El diccionario de inventario actual.\n",
        "        nombre (str): El nombre del repuesto a eliminar.\n",
        "    \"\"\"\n",
        "    if nombre in inventario:\n",
        "        del inventario[nombre]\n",
        "        guardar_inventario(inventario)\n",
        "    else:\n",
        "        print(\"Repuesto no encontrado.\")\n",
        "\n",
        "def consultar_repuesto(inventario, nombre):\n",
        "    \"\"\"\n",
        "    Consulta la cantidad disponible de un repuesto en el inventario.\n",
        "\n",
        "    Busca el repuesto en el diccionario y devuelve la cantidad disponible. Si el repuesto no\n",
        "    está en el inventario, devuelve 0.\n",
        "\n",
        "    Args:\n",
        "        inventario (dict): El diccionario de inventario actual.\n",
        "        nombre (str): El nombre del repuesto a consultar.\n",
        "\n",
        "    Returns:\n",
        "        int: La cantidad disponible del repuesto.\n",
        "    \"\"\"\n",
        "    return inventario.get(nombre, 0)\n",
        "\n",
        "def realizar_compra(inventario, nombre, cantidad):\n",
        "    \"\"\"\n",
        "    Realiza una compra de un repuesto, aumentando su cantidad en el inventario.\n",
        "\n",
        "    Si el repuesto existe, incrementa su cantidad en la cantidad especificada. Si no existe,\n",
        "    muestra un mensaje de error. Luego guarda los cambios en el archivo.\n",
        "\n",
        "    Args:\n",
        "        inventario (dict): El diccionario de inventario actual.\n",
        "        nombre (str): El nombre del repuesto a comprar.\n",
        "        cantidad (int): La cantidad de repuesto a comprar.\n",
        "    \"\"\"\n",
        "    if nombre in inventario:\n",
        "        inventario[nombre] += cantidad\n",
        "        guardar_inventario(inventario)\n",
        "    else:\n",
        "        print(\"Repuesto no encontrado.\")\n",
        "\n",
        "def menu():\n",
        "    \"\"\"\n",
        "    Muestra el menú principal y permite al usuario gestionar el inventario.\n",
        "\n",
        "    El menú proporciona opciones para agregar, eliminar, consultar repuestos y realizar compras.\n",
        "    Las operaciones se realizan según la opción seleccionada por el usuario. El inventario se\n",
        "    carga al inicio y se guarda después de cada operación.\n",
        "    \"\"\"\n",
        "    inventario = cargar_inventario()\n",
        "    while True:\n",
        "        print(\"\\nSistema de inventario taller automotriz Morquecho´s\")\n",
        "        print(\"\\n1. Agregar repuesto\")\n",
        "        print(\"2. Eliminar repuesto\")\n",
        "        print(\"3. Consultar repuesto\")\n",
        "        print(\"4. Realizar compra\")\n",
        "        print(\"5. Salir\")\n",
        "        opcion = input(\"Seleccione una opción: \")\n",
        "\n",
        "        if opcion == '1':\n",
        "            nombre = input(\"Nombre del repuesto: \")\n",
        "            cantidad = int(input(\"Cantidad a agregar: \"))\n",
        "            agregar_repuesto(inventario, nombre, cantidad)\n",
        "            print(\"Repuesto agregado.\")\n",
        "\n",
        "        elif opcion == '2':\n",
        "            nombre = input(\"Nombre del repuesto a eliminar: \")\n",
        "            eliminar_repuesto(inventario, nombre)\n",
        "            print(\"Repuesto eliminado.\")\n",
        "\n",
        "        elif opcion == '3':\n",
        "            nombre = input(\"Nombre del repuesto a consultar: \")\n",
        "            cantidad = consultar_repuesto(inventario, nombre)\n",
        "            print(f\"Cantidad disponible de {nombre}: {cantidad}\")\n",
        "\n",
        "        elif opcion == '4':\n",
        "            nombre = input(\"Nombre del repuesto a comprar: \")\n",
        "            cantidad = int(input(\"Cantidad a comprar: \"))\n",
        "            realizar_compra(inventario, nombre, cantidad)\n",
        "            print(\"Compra realizada.\")\n",
        "\n",
        "        elif opcion == '5':\n",
        "            break\n",
        "\n",
        "        else:\n",
        "            print(\"Opción no válida.\")\n",
        "\n",
        "# Punto de entrada al programa\n",
        "#Al ejecutar el interpete toma este codigo como el main o punto de entrada y comienza a ejecutar\n",
        "#las funciones dentro de este siguiente bloque.\n",
        "#es algo así como un void main\n",
        "if __name__ == \"__main__\":\n",
        "    menu()\n"
      ],
      "metadata": {
        "colab": {
          "base_uri": "https://localhost:8080/"
        },
        "id": "x1ZVGP2AD5Ff",
        "outputId": "8ca869f7-fd09-4b57-8e93-3fa62a57080f"
      },
      "execution_count": null,
      "outputs": [
        {
          "name": "stdout",
          "output_type": "stream",
          "text": [
            "\n",
            "1. Agregar repuesto\n",
            "2. Eliminar repuesto\n",
            "3. Consultar repuesto\n",
            "4. Realizar compra\n",
            "5. Salir\n",
            "Seleccione una opción: 5\n"
          ]
        }
      ]
    },
    {
      "cell_type": "markdown",
      "source": [
        "2.-Una empresa de servicios a terceros ofrece proyectos de consultoría y debe llevar el control de horas trabajadas por sus empleados en diferentes proyectos. Crea un programa que calcule las horas totales trabajadas por cada empleado en varios proyectos y su costo total en función de la tarifa por hora."
      ],
      "metadata": {
        "id": "Zn7CnuqrGBbP"
      }
    },
    {
      "cell_type": "code",
      "source": [
        "import os\n",
        "\n",
        "# Nombre del archivo que simula la base de datos de horas trabajadas\n",
        "ARCHIVO_HORAS = 'horas_trabajadas.txt'\n",
        "\n",
        "def cargar_horas():\n",
        "    \"\"\"\n",
        "    Carga las horas trabajadas de los empleados desde el archivo.\n",
        "    Devuelve un diccionario donde la clave es el nombre del empleado y el valor\n",
        "    es otro diccionario con el proyecto como clave y las horas trabajadas como valor.\n",
        "    \"\"\"\n",
        "    horas = {}\n",
        "    if os.path.exists(ARCHIVO_HORAS):\n",
        "        with open(ARCHIVO_HORAS, 'r') as archivo:\n",
        "            for linea in archivo:\n",
        "                empleado, proyecto, horas_trabajadas = linea.strip().split(',')\n",
        "                if empleado not in horas:\n",
        "                    horas[empleado] = {}\n",
        "                if proyecto in horas[empleado]:\n",
        "                    horas[empleado][proyecto] += float(horas_trabajadas)\n",
        "                else:\n",
        "                    horas[empleado][proyecto] = float(horas_trabajadas)\n",
        "    return horas\n",
        "\n",
        "def guardar_horas(horas):\n",
        "    \"\"\"\n",
        "    Guarda el diccionario de horas trabajadas en el archivo.\n",
        "    \"\"\"\n",
        "    with open(ARCHIVO_HORAS, 'w') as archivo:\n",
        "        for empleado, proyectos in horas.items():\n",
        "            for proyecto, horas_trabajadas in proyectos.items():\n",
        "                archivo.write(f'{empleado},{proyecto},{horas_trabajadas}\\n')\n",
        "\n",
        "def agregar_horas(horas, empleado, proyecto, horas_trabajadas):\n",
        "    \"\"\"\n",
        "    Agrega horas trabajadas para un empleado en un proyecto.\n",
        "    \"\"\"\n",
        "    if empleado not in horas:\n",
        "        horas[empleado] = {}\n",
        "    if proyecto in horas[empleado]:\n",
        "        horas[empleado][proyecto] += horas_trabajadas\n",
        "    else:\n",
        "        horas[empleado][proyecto] = horas_trabajadas\n",
        "    guardar_horas(horas)\n",
        "\n",
        "def calcular_total_horas(horas, empleado):\n",
        "    \"\"\"\n",
        "    Calcula el total de horas trabajadas por un empleado en todos los proyectos.\n",
        "    \"\"\"\n",
        "    if empleado in horas:\n",
        "        return sum(horas[empleado].values())\n",
        "    return 0\n",
        "\n",
        "def calcular_costo_total(horas, tarifas, empleado):\n",
        "    \"\"\"\n",
        "    Calcula el costo total basado en las horas trabajadas y las tarifas por hora.\n",
        "    \"\"\"\n",
        "    total_horas = calcular_total_horas(horas, empleado)\n",
        "    tarifa = tarifas.get(empleado, 0)\n",
        "    return total_horas * tarifa\n",
        "\n",
        "def menu():\n",
        "    \"\"\"\n",
        "    Muestra el menú principal y permite al usuario gestionar el inventario.\n",
        "    \"\"\"\n",
        "    horas = cargar_horas()\n",
        "    tarifas = {}\n",
        "\n",
        "    while True:\n",
        "        print(\"\\n1. Agregar horas trabajadas\")\n",
        "        print(\"2. Consultar total de horas trabajadas por empleado\")\n",
        "        print(\"3. Consultar costo total por empleado\")\n",
        "        print(\"4. Establecer tarifa por hora\")\n",
        "        print(\"5. Salir\")\n",
        "        opcion = input(\"Seleccione una opción: \")\n",
        "\n",
        "        if opcion == '1':\n",
        "            empleado = input(\"Nombre del empleado: \")\n",
        "            proyecto = input(\"Nombre del proyecto: \")\n",
        "            horas_trabajadas = float(input(\"Horas trabajadas: \"))\n",
        "            agregar_horas(horas, empleado, proyecto, horas_trabajadas)\n",
        "            print(\"Horas agregadas.\")\n",
        "\n",
        "        elif opcion == '2':\n",
        "            empleado = input(\"Nombre del empleado: \")\n",
        "            total_horas = calcular_total_horas(horas, empleado)\n",
        "            print(f\"Total de horas trabajadas por {empleado}: {total_horas}\")\n",
        "\n",
        "        elif opcion == '3':\n",
        "            empleado = input(\"Nombre del empleado: \")\n",
        "            if empleado in tarifas:\n",
        "                costo_total = calcular_costo_total(horas, tarifas, empleado)\n",
        "                print(f\"Costo total para {empleado}: {costo_total}\")\n",
        "            else:\n",
        "                print(\"Tarifa no establecida para este empleado.\")\n",
        "\n",
        "        elif opcion == '4':\n",
        "            empleado = input(\"Nombre del empleado: \")\n",
        "            tarifa = float(input(\"Tarifa por hora: \"))\n",
        "            tarifas[empleado] = tarifa\n",
        "            print(\"Tarifa establecida.\")\n",
        "\n",
        "        elif opcion == '5':\n",
        "            break\n",
        "\n",
        "        else:\n",
        "            print(\"Opción no válida.\")\n",
        "# Punto de entrada al programa\n",
        "#Al ejecutar el interpete toma este codigo como el main o punto de entrada y comienza a ejecutar\n",
        "#las funciones dentro de este siguiente bloque.\n",
        "#es algo así como un void main\n",
        "if __name__ == \"__main__\":\n",
        "    menu()\n"
      ],
      "metadata": {
        "colab": {
          "base_uri": "https://localhost:8080/"
        },
        "id": "doyA3typGB00",
        "outputId": "3367c613-1070-4ebd-e4b1-840a9f9e43ea"
      },
      "execution_count": null,
      "outputs": [
        {
          "name": "stdout",
          "output_type": "stream",
          "text": [
            "\n",
            "1. Agregar horas trabajadas\n",
            "2. Consultar total de horas trabajadas por empleado\n",
            "3. Consultar costo total por empleado\n",
            "4. Establecer tarifa por hora\n",
            "5. Salir\n",
            "Seleccione una opción: 5\n"
          ]
        }
      ]
    },
    {
      "cell_type": "markdown",
      "source": [
        "Ambas soluciones tienen la opcion de salir del programa mediante la funcion break que rompe el ciclo while dentro de la funcion main.\n",
        "Esto finaliza el programa. Es importante aclarar que si se ejecuta en una pc el archivo txt se mantendra y toda informacion puesta anteriormente se almacenara a menos que se eliminen dichos registros.\n"
      ],
      "metadata": {
        "id": "WzsZ_8MbKnqU"
      }
    },
    {
      "cell_type": "markdown",
      "source": [
        "# NEURONA APRENDIZAJE COMPUERTA AND"
      ],
      "metadata": {
        "id": "NA7UP03TTprv"
      }
    },
    {
      "cell_type": "code",
      "source": [
        "x=[0,1]\n",
        "w=[12,5]\n",
        "s=1\n",
        "for i in range(0,2):\n",
        "  s=s+x[i]*w[i]\n",
        "print(s)\n",
        "\n",
        "y=1 if s>0 else 0\n",
        "print(x[0],'AND',x[1],'=',y)"
      ],
      "metadata": {
        "colab": {
          "base_uri": "https://localhost:8080/"
        },
        "id": "30VNUOheT4WQ",
        "outputId": "6d4366e5-9680-4987-af19-c58904773947"
      },
      "execution_count": null,
      "outputs": [
        {
          "output_type": "stream",
          "name": "stdout",
          "text": [
            "6\n",
            "0 AND 1 = 1\n"
          ]
        }
      ]
    },
    {
      "cell_type": "markdown",
      "source": [
        "# Evaluación unidad 1"
      ],
      "metadata": {
        "id": "lUYGzLg02-_d"
      }
    },
    {
      "cell_type": "code",
      "source": [
        "import numpy as np\n",
        "import matplotlib.pyplot as plt\n",
        "\n",
        "\"\"\"\n",
        "----------------Función Perceptrón-------------------------\n",
        "  Implementacion básica de un perceptron.\n",
        "  Se puede considerar esta funcion como un perceptron dado que recibe\n",
        "  todos los parametros de un perceptron.\n",
        "  la funcion dot() de numpy realiza la sumatoria de los productos de entradas\n",
        "  multiplicandas por sus pesos. Basicamente sustituye al codigo propuesto en clase:\n",
        "\n",
        "  x=[0,1]\n",
        "  w=[12,5]\n",
        "  s=1\n",
        "  for i in range(0,2):\n",
        "    s=s+x[i]*w[i]\n",
        "  print(s)\n",
        "  y=1 if s>0 else 0\n",
        "\n",
        "\n",
        "\"\"\"\n",
        "def perceptron(x, w, bias):\n",
        "    suma = np.dot(x, w) + bias #sumatoria del perceptron\n",
        "    return 1 if suma > 0 else 0 #funcion de activacion, determina si el res es 1 o 0\n",
        "\n",
        "\"\"\"\n",
        "----------------- Entrenamiento del perceptron ---------------------------\n",
        "la funcion de entrenamiento se en 3 etapas, que basicamente son:\n",
        "\n",
        "1.-Definicion de variables iniciales: conciste en declarar la variable inicial de\n",
        "peso (w), y el bias, ambos con numeros aleatorios generados con el metodo\n",
        "random.rand de numpy.\n",
        "Tambien los historiales de pesos y bias para generar graficas para comprender como\n",
        "es el proceso de aprendizaje de un perceptron en cada iteracion o como se le conoce\n",
        "dentro del machine learning, \"epoch\".\n",
        "\n",
        "2.-Iteraciones o epoch's: En esta etapa, segun el numero de epoch's establecido,\n",
        "el perceptron va ir iterando para entrenar y aprender nuevos datos.\n",
        "En esta tecnica se le pasa al perceptron resultados esperados.\n",
        "todo este aprendizaje es en funcion del error calculado, este es el encargado\n",
        "de definir si el bias y el peso deben ser actualizados.\n",
        "Esta parte no requiere de ciclos de control como un if-else, ya que para eso se\n",
        "calcula el error y con cada iteracion se hace el ajuste. Si el error es cero el\n",
        "ajuste no afecta hasta que este valor sea diferente de cero.\n",
        "Lo mismo para el bias.\n",
        "\n",
        "Al final la funcion retorna vectores para pesos y bias, así como tsmbien el historial\n",
        "de aptendizaje para ambos casos; bias y pesos. Estos historiales sirven para\n",
        "graficar el aprendizaje del perceptron a traves de cada iteracion y mostrar como\n",
        "al final convergen.\n",
        "\n",
        "\"\"\"\n",
        "def entrenar_perceptron(entradas, resultados_esperados, epochs, tasa_aprendizaje):\n",
        "    w = np.random.rand(2)  # Pesos iniciales aleatorios\n",
        "    #esta funcion genera un arreglo con dos pesos aleatorios\n",
        "    bias = np.random.rand(1)[0]  # Bias inicial aleatorio\n",
        "    #genera un arreglo de 1 espacio y numero va de 0 a 1.\n",
        "\n",
        "    # Historial para gráficos\n",
        "    #se inicializan como arreglos o listas vacias\n",
        "    historial_pesos = []\n",
        "    historial_bias = []\n",
        "\n",
        "    #se inician las iteraciones\n",
        "    #Segun la cantidad de iteraciones el perceptron tiene posibilidad de\n",
        "    #Converger y dar valores mas acertados al esperado.\n",
        "    #Si el número de epochs es muy alto, el modelo puede comenzar a\n",
        "    #sobreajustarse a los datos de entrenamiento, a esto se le llama overfitting\n",
        "    for epoch in range(epochs):\n",
        "        #se itera cada entrada\n",
        "        for i in range(len(entradas)):\n",
        "          #se toma el valor de la entrada y se almacena en X\n",
        "            x = entradas[i]\n",
        "            #se toma la salida esperada\n",
        "            y_esperado = resultados_esperados[i]\n",
        "            #se calcula un numero y_predecido utilizando el perceptron\n",
        "            #se le pasan como parametros la entrada, su peso y el bia\n",
        "            y_predicho = perceptron(x, w, bias)\n",
        "            #se calcula el error para saber si tiene que cambiar el bias y peso\n",
        "            error = y_esperado - y_predicho\n",
        "\n",
        "            # Actualización de pesos y bias\n",
        "            w += tasa_aprendizaje * error * x\n",
        "            bias += tasa_aprendizaje * error\n",
        "\n",
        "            # Guardar pesos y bias para graficar\n",
        "            historial_pesos.append(w.copy())\n",
        "            historial_bias.append(bias)\n",
        "    #al final se retorna un peso w y un bias según como se entrene al perceptron\n",
        "    #los historiales son para generar las graficas de aprendizaje\n",
        "    return w, bias, historial_pesos, historial_bias\n",
        "\n",
        "\"\"\"\n",
        "    Función para graficar los resultados\n",
        "    Grafica el aprendizaje del perceptron a traves de cada epoch\n",
        "    recibe como parametros los historiales de pesos, bias, las entradas, los\n",
        "    resultados esperados y el tipo de compuerta ya sea OR o AND\n",
        "\n",
        "    Utiliza la libreria de matplotlib para crear las graficas de evolucion\n",
        "    y fronteras de desicion.\n",
        "    la misma funcion se usa para las dos compuertas\n",
        "\"\"\"\n",
        "\n",
        "def graficar_historial(historial_pesos, historial_bias, entradas, resultados_esperados, tipo):\n",
        "    # Convertir el historial en arreglos de numpy, para poder realizar calculos\n",
        "    historial_pesos = np.array(historial_pesos)\n",
        "    historial_bias = np.array(historial_bias)\n",
        "\n",
        "    # Gráfica de los pesos\n",
        "    #se da el tamaño de la grafica\n",
        "    plt.figure(figsize=(12, 6))\n",
        "\n",
        "    # Gráfica de pesos, ambos pesos se grafican con sus respectivas etiquetas\n",
        "    plt.subplot(1, 2, 1)  # Crea el primer subplot (de dos) para las gráficas de pesos.\n",
        "    plt.plot(historial_pesos[:, 0], label='Peso 1 (w0)')  # Grafica la evolución del primer peso (w0) a lo largo de las iteraciones.\n",
        "    plt.plot(historial_pesos[:, 1], label='Peso 2 (w1)')  # Grafica la evolución del segundo peso (w1) en las iteraciones.\n",
        "    plt.scatter(range(len(historial_pesos)), historial_pesos[:, 0], color='red', s=10)  # Agrega puntos rojos pequeños para resaltar los valores de w0 en cada iteración.\n",
        "    plt.scatter(range(len(historial_pesos)), historial_pesos[:, 1], color='blue', s=10)  # Agrega puntos azules pequeños para los valores de w1 en cada iteración.\n",
        "    plt.xlabel('Iteraciones')  # Etiqueta para el eje X (número de iteraciones o epochs).\n",
        "    plt.ylabel('Valor del peso')  # Etiqueta para el eje Y (valores de los pesos w0 y w1).\n",
        "    plt.title(f'Evolución de los pesos para {tipo}')  # Título de la gráfica, indicando si es para la compuerta AND o OR.\n",
        "    plt.legend()  # Muestra la leyenda que indica a qué corresponde cada línea o punto.\n",
        "\n",
        "    # Gráfica del bias\n",
        "    plt.subplot(1, 2, 2)  # Crea el segundo subplot para graficar la evolución del bias.\n",
        "    plt.plot(historial_bias, label='Bias')  # Grafica la evolución del bias a lo largo de las iteraciones.\n",
        "    plt.scatter(range(len(historial_bias)), historial_bias, color='green', s=10)  # Agrega puntos verdes pequeños para resaltar los valores del bias en cada iteración.\n",
        "    plt.xlabel('Iteraciones')  # Etiqueta del eje X (número de iteraciones o epochs).\n",
        "    plt.ylabel('Valor del bias')  # Etiqueta del eje Y (valores del bias).\n",
        "    plt.title(f'Evolución del bias para {tipo}')  # Título de la gráfica, indicando si es para la compuerta AND o OR.\n",
        "    plt.legend()  # Muestra la leyenda para el gráfico.\n",
        "\n",
        "    # Mostrar gráficos\n",
        "    plt.tight_layout()  # Ajusta el diseño para que los subplots no se solapen.\n",
        "    plt.show()  # Muestra las gráficas anteriores (evolución de pesos y bias).\n",
        "\n",
        "    # Gráfica de frontera de decisión\n",
        "    plt.figure(figsize=(8, 6))  # Crea una nueva figura para la gráfica de la frontera de decisión.\n",
        "    x_min, x_max = -0.5, 1.5  # Define los límites mínimos y máximos para el eje X.\n",
        "    y_min, y_max = -0.5, 1.5  # Define los límites mínimos y máximos para el eje Y.\n",
        "    xx, yy = np.meshgrid(np.arange(x_min, x_max, 0.01), np.arange(y_min, y_max, 0.01))  # Crea una malla de puntos en el espacio de entrada (X0, X1).\n",
        "\n",
        "    # Calcula el valor predicho por el perceptrón para cada punto de la malla\n",
        "    Z = np.array([perceptron(np.array([x, y]), np.mean(historial_pesos[-10:], axis=0), np.mean(historial_bias[-10:])) for x, y in zip(np.ravel(xx), np.ravel(yy))])\n",
        "    Z = Z.reshape(xx.shape)  # Reshape para que coincida con la malla de puntos.\n",
        "\n",
        "    plt.contourf(xx, yy, Z, alpha=0.8)  # Grafica la frontera de decisión, rellenando las regiones con diferentes colores.\n",
        "    plt.scatter(entradas[:, 0], entradas[:, 1], c=resultados_esperados, edgecolors='k', marker='o')  # Muestra los puntos de datos originales.\n",
        "    plt.xlabel('X0')  # Etiqueta del eje X.\n",
        "    plt.ylabel('X1')  # Etiqueta del eje Y.\n",
        "    plt.title(f'Frontera de decisión para {tipo}')  # Título de la gráfica, indicando si es para la compuerta AND o OR.\n",
        "    plt.xlim(x_min, x_max)  # Establece los límites del eje X.\n",
        "    plt.ylim(y_min, y_max)  # Establece los límites del eje Y.\n",
        "    plt.show()  # Muestra la gráfica de la frontera de decisión.\n",
        "\n",
        "\n",
        "\"\"\"\n",
        "    Función para solicitar valores de entrada y mostrar los resultados\n",
        "\n",
        "    Esta funcion es la principal, se encarga de entrenar al perceptron\n",
        "    posteriormente al obtener los pesos y bias exactos calcula segun la entrada\n",
        "    que se le asigne. Al entrenar al inicio muestra las graficas y despues\n",
        "    pide se le ingresen los datasheets.\n",
        "\"\"\"\n",
        "def calcular_compuertas():\n",
        "    # Definir las entradas y los resultados esperados para AND y OR\n",
        "    #Esto es para entrenar al perceptron y obtener los pesos y bias correctos\n",
        "    entradas = np.array([[0, 0], [0, 1], [1, 0], [1, 1]])\n",
        "    resultados_and = np.array([0, 0, 0, 1])\n",
        "    resultados_or = np.array([0, 1, 1, 1])\n",
        "\n",
        "    # Entrenar perceptrón para AND\n",
        "    #se ingresa los datos para entrenar al perceptron, se declaran variables\n",
        "    #que al ejecutar la funcion obtienen sus valores\n",
        "    print(\"Entrenando perceptrón para compuerta AND...\")\n",
        "    w_and, bias_and, historial_pesos_and, historial_bias_and = entrenar_perceptron(\n",
        "        entradas, resultados_and, epochs=10, tasa_aprendizaje=0.1\n",
        "    )\n",
        "\n",
        "    # Graficar resultados para AND\n",
        "    graficar_historial(historial_pesos_and, historial_bias_and, entradas, resultados_and, 'AND')\n",
        "\n",
        "    # Entrenar perceptrón para OR\n",
        "    print(\"Entrenando perceptrón para compuerta OR...\")\n",
        "    w_or, bias_or, historial_pesos_or, historial_bias_or = entrenar_perceptron(\n",
        "        entradas, resultados_or, epochs=10, tasa_aprendizaje=0.1\n",
        "    )\n",
        "\n",
        "    # Graficar resultados para OR\n",
        "    graficar_historial(historial_pesos_or, historial_bias_or, entradas, resultados_or, 'OR')\n",
        "\n",
        "    # Bucle principal del programa\n",
        "    #Aqui se utilizan los datos obtenidos del entrenamiento\n",
        "    #para poder calcular las salidad de las compuertas logicas\n",
        "    while True:\n",
        "\n",
        "      #Solicita entrada de los dos valores para x\n",
        "        x0 = int(input(\"Introduce el valor de X0 (0 o 1): \"))\n",
        "        x1 = int(input(\"Introduce el valor de X1 (0 o 1): \"))\n",
        "\n",
        "        #Validacion para no ingresar numeros diferentes de 0 y 1 en ambas entradas\n",
        "        if x0 not in [0, 1] or x1 not in [0, 1]:\n",
        "            print(\"Valores no válidos, solo se aceptan 0 o 1.\")\n",
        "            continue\n",
        "\n",
        "        # Definir las entradas como un arreglo para poder pasarlo al perceptron\n",
        "        x = np.array([x0, x1])\n",
        "\n",
        "        # Calcular las salidas para AND y OR, pasandole los pesos, los datos y\n",
        "        # Cada uno de los respectivos bias.\n",
        "        resultado_and = perceptron(x, w_and, bias_and)\n",
        "        resultado_or = perceptron(x, w_or, bias_or)\n",
        "\n",
        "        # Imprimir los resultados\n",
        "        print(f\"{x0} AND {x1} = {resultado_and}\")\n",
        "        print(f\"{x0} OR {x1} = {resultado_or}\")\n",
        "\n",
        "        # Menú interactivo para repetir o salir\n",
        "        repetir = input(\"¿Quieres introducir otro datasheet? (s/n): \").lower()\n",
        "        if repetir != 's':\n",
        "            break\n",
        "\n",
        "# Llamar a la función principal\n",
        "calcular_compuertas()\n"
      ],
      "metadata": {
        "colab": {
          "base_uri": "https://localhost:8080/",
          "height": 1000
        },
        "id": "5yz-JooJ3B20",
        "outputId": "29e1c703-906e-4f3e-aa55-4367c28693c9"
      },
      "execution_count": 3,
      "outputs": [
        {
          "output_type": "stream",
          "name": "stdout",
          "text": [
            "Entrenando perceptrón para compuerta AND...\n"
          ]
        },
        {
          "output_type": "display_data",
          "data": {
            "text/plain": [
              "<Figure size 1200x600 with 2 Axes>"
            ],
            "image/png": "[encoded data removed]"
          },
          "metadata": {}
        },
        {
          "output_type": "display_data",
          "data": {
            "text/plain": [
              "<Figure size 800x600 with 1 Axes>"
            ],
            "image/png": "[encoded data removed]"
          },
          "metadata": {}
        },
        {
          "output_type": "stream",
          "name": "stdout",
          "text": [
            "Entrenando perceptrón para compuerta OR...\n"
          ]
        },
        {
          "output_type": "display_data",
          "data": {
            "text/plain": [
              "<Figure size 1200x600 with 2 Axes>"
            ],
            "image/png": "[encoded data removed]"
          },
          "metadata": {}
        },
        {
          "output_type": "display_data",
          "data": {
            "text/plain": [
              "<Figure size 800x600 with 1 Axes>"
            ],
            "image/png": "[encoded data removed]"
          },
          "metadata": {}
        },
        {
          "name": "stdout",
          "output_type": "stream",
          "text": [
            "Introduce el valor de X0 (0 o 1): n\n"
          ]
        },
        {
          "output_type": "error",
          "ename": "ValueError",
          "evalue": "invalid literal for int() with base 10: 'n'",
          "traceback": [
            "\u001b[0;31m---------------------------------------------------------------------------\u001b[0m",
            "\u001b[0;31mValueError\u001b[0m                                Traceback (most recent call last)",
            "\u001b[0;32m<ipython-input-3-1d9d36df8412>\u001b[0m in \u001b[0;36m<cell line: 224>\u001b[0;34m()\u001b[0m\n\u001b[1;32m    222\u001b[0m \u001b[0;34m\u001b[0m\u001b[0m\n\u001b[1;32m    223\u001b[0m \u001b[0;31m# Llamar a la función principal\u001b[0m\u001b[0;34m\u001b[0m\u001b[0;34m\u001b[0m\u001b[0m\n\u001b[0;32m--> 224\u001b[0;31m \u001b[0mcalcular_compuertas\u001b[0m\u001b[0;34m(\u001b[0m\u001b[0;34m)\u001b[0m\u001b[0;34m\u001b[0m\u001b[0;34m\u001b[0m\u001b[0m\n\u001b[0m",
            "\u001b[0;32m<ipython-input-3-1d9d36df8412>\u001b[0m in \u001b[0;36mcalcular_compuertas\u001b[0;34m()\u001b[0m\n\u001b[1;32m    196\u001b[0m \u001b[0;34m\u001b[0m\u001b[0m\n\u001b[1;32m    197\u001b[0m       \u001b[0;31m#Solicita entrada de los dos valores para x\u001b[0m\u001b[0;34m\u001b[0m\u001b[0;34m\u001b[0m\u001b[0m\n\u001b[0;32m--> 198\u001b[0;31m         \u001b[0mx0\u001b[0m \u001b[0;34m=\u001b[0m \u001b[0mint\u001b[0m\u001b[0;34m(\u001b[0m\u001b[0minput\u001b[0m\u001b[0;34m(\u001b[0m\u001b[0;34m\"Introduce el valor de X0 (0 o 1): \"\u001b[0m\u001b[0;34m)\u001b[0m\u001b[0;34m)\u001b[0m\u001b[0;34m\u001b[0m\u001b[0;34m\u001b[0m\u001b[0m\n\u001b[0m\u001b[1;32m    199\u001b[0m         \u001b[0mx1\u001b[0m \u001b[0;34m=\u001b[0m \u001b[0mint\u001b[0m\u001b[0;34m(\u001b[0m\u001b[0minput\u001b[0m\u001b[0;34m(\u001b[0m\u001b[0;34m\"Introduce el valor de X1 (0 o 1): \"\u001b[0m\u001b[0;34m)\u001b[0m\u001b[0;34m)\u001b[0m\u001b[0;34m\u001b[0m\u001b[0;34m\u001b[0m\u001b[0m\n\u001b[1;32m    200\u001b[0m \u001b[0;34m\u001b[0m\u001b[0m\n",
            "\u001b[0;31mValueError\u001b[0m: invalid literal for int() with base 10: 'n'"
          ]
        }
      ]
    }
  ]
}